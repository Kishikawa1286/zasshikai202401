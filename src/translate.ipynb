{
 "cells": [
  {
   "cell_type": "code",
   "execution_count": 22,
   "metadata": {},
   "outputs": [],
   "source": [
    "MD_PATH='../docs/Formalizing_and_solving/original.md'\n",
    "TRANSLATION_MD_PATH='../docs/Formalizing_and_solving/translated.md'"
   ]
  },
  {
   "cell_type": "code",
   "execution_count": 23,
   "metadata": {},
   "outputs": [],
   "source": [
    "corr_list = \"\"\"\n",
    "Clustering: クラスタリング\n",
    "Decision analysis: 決定分析\n",
    "Metaheuristics: メタヒューリスティクス\n",
    "Combinatorial optimization: 組み合わせ最適化\n",
    "Data analysis: データ分析\n",
    "Multi criteria decision aid: 多基準意思決定支援\n",
    "Classification: 分類\n",
    "criteria: 基準\n",
    "K-MEANs algorithm: K-MEANs アルゴリズム\n",
    "alternatives: 代替案\n",
    "crisp: crisp\n",
    "consistent: 整合している\n",
    "\"\"\""
   ]
  },
  {
   "cell_type": "code",
   "execution_count": 24,
   "metadata": {},
   "outputs": [],
   "source": [
    "if not MD_PATH.endswith('.md'):\n",
    "    raise ValueError('Output file path must end with .md')\n",
    "if not TRANSLATION_MD_PATH.endswith('.md'):\n",
    "    raise ValueError('Output file path must end with .md')"
   ]
  },
  {
   "cell_type": "code",
   "execution_count": 25,
   "metadata": {},
   "outputs": [
    {
     "data": {
      "text/plain": [
       "True"
      ]
     },
     "execution_count": 25,
     "metadata": {},
     "output_type": "execute_result"
    }
   ],
   "source": [
    "from dotenv import load_dotenv\n",
    "import sys\n",
    "sys.path.append('.')\n",
    "load_dotenv('../.env')"
   ]
  },
  {
   "cell_type": "code",
   "execution_count": 26,
   "metadata": {},
   "outputs": [],
   "source": [
    "import nest_asyncio\n",
    "\n",
    "from utils.split_text import split_md_text\n",
    "from utils.translate import translate_chunks\n",
    "\n",
    "nest_asyncio.apply()"
   ]
  },
  {
   "cell_type": "code",
   "execution_count": 27,
   "metadata": {},
   "outputs": [],
   "source": [
    "with open(MD_PATH, 'r', encoding='utf-8') as file:\n",
    "    md = file.read()\n",
    "    file.close()"
   ]
  },
  {
   "cell_type": "code",
   "execution_count": 28,
   "metadata": {},
   "outputs": [],
   "source": [
    "chunks = split_md_text(md, max_chars_per_chunk=5000)"
   ]
  },
  {
   "cell_type": "code",
   "execution_count": 29,
   "metadata": {},
   "outputs": [
    {
     "name": "stdout",
     "output_type": "stream",
     "text": [
      "Number of chunks need to be translated:  28\n"
     ]
    }
   ],
   "source": [
    "cnt = 0\n",
    "\n",
    "for i in range(len(chunks)):\n",
    "    chunk = chunks[i]\n",
    "    if chunk.startswith('$$'):\n",
    "        continue\n",
    "    if chunk.startswith('|'):\n",
    "        continue\n",
    "    cnt += 1\n",
    "\n",
    "print(\"Number of chunks need to be translated: \", cnt)"
   ]
  },
  {
   "cell_type": "code",
   "execution_count": 30,
   "metadata": {},
   "outputs": [
    {
     "name": "stdout",
     "output_type": "stream",
     "text": [
      "Processing batch 1 of 11\n",
      "Processing batch 2 of 11\n",
      "Processing batch 3 of 11\n",
      "Processing batch 4 of 11\n",
      "Processing batch 5 of 11\n",
      "Processing batch 6 of 11\n",
      "Processing batch 7 of 11\n",
      "Processing batch 8 of 11\n",
      "Processing batch 9 of 11\n",
      "Processing batch 10 of 11\n",
      "Processing batch 11 of 11\n"
     ]
    }
   ],
   "source": [
    "tranlated_chunks = await translate_chunks(\n",
    "    chunks, corr_list, batch_size=5, timeout=20000)"
   ]
  },
  {
   "cell_type": "code",
   "execution_count": 31,
   "metadata": {},
   "outputs": [],
   "source": [
    "with open(TRANSLATION_MD_PATH, 'w', encoding='utf-8') as file:\n",
    "    file.write('\\n\\n'.join(map(lambda chunk: str(chunk), tranlated_chunks)))\n",
    "    file.close()"
   ]
  },
  {
   "cell_type": "code",
   "execution_count": null,
   "metadata": {},
   "outputs": [],
   "source": []
  }
 ],
 "metadata": {
  "kernelspec": {
   "display_name": "Python 3",
   "language": "python",
   "name": "python3"
  },
  "language_info": {
   "codemirror_mode": {
    "name": "ipython",
    "version": 3
   },
   "file_extension": ".py",
   "mimetype": "text/x-python",
   "name": "python",
   "nbconvert_exporter": "python",
   "pygments_lexer": "ipython3",
   "version": "3.10.12"
  },
  "orig_nbformat": 4
 },
 "nbformat": 4,
 "nbformat_minor": 2
}

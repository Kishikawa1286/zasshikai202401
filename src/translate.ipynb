{
 "cells": [
  {
   "cell_type": "code",
   "execution_count": 1,
   "metadata": {},
   "outputs": [],
   "source": [
    "MD_PATH='../docs/Acceptability_analysis/original.md'\n",
    "TRANSLATION_MD_PATH='../docs/Acceptability_analysis/translated.md'"
   ]
  },
  {
   "cell_type": "code",
   "execution_count": 2,
   "metadata": {},
   "outputs": [],
   "source": [
    "corr_list = \"\"\"\n",
    "decision analysis: decision analysis\n",
    "interval: 区間\n",
    "multiplicative: 乗法的\n",
    "comparison matrix: 比較行列\n",
    "consistency: 整合性\n",
    "acceptability: 許容可能性\n",
    "inconsistency: 不整合性\n",
    "pairwise comparison: 一対比較\n",
    "indeterminancy: 不確定性\n",
    "\"\"\""
   ]
  },
  {
   "cell_type": "code",
   "execution_count": 3,
   "metadata": {},
   "outputs": [],
   "source": [
    "if not MD_PATH.endswith('.md'):\n",
    "    raise ValueError('Output file path must end with .md')\n",
    "if not TRANSLATION_MD_PATH.endswith('.md'):\n",
    "    raise ValueError('Output file path must end with .md')"
   ]
  },
  {
   "cell_type": "code",
   "execution_count": 4,
   "metadata": {},
   "outputs": [
    {
     "data": {
      "text/plain": [
       "True"
      ]
     },
     "execution_count": 4,
     "metadata": {},
     "output_type": "execute_result"
    }
   ],
   "source": [
    "from dotenv import load_dotenv\n",
    "import sys\n",
    "sys.path.append('.')\n",
    "load_dotenv('../.env')"
   ]
  },
  {
   "cell_type": "code",
   "execution_count": 5,
   "metadata": {},
   "outputs": [],
   "source": [
    "import nest_asyncio\n",
    "\n",
    "from utils.split_text import split_md_text\n",
    "from utils.translate import translate_chunks\n",
    "\n",
    "nest_asyncio.apply()"
   ]
  },
  {
   "cell_type": "code",
   "execution_count": 6,
   "metadata": {},
   "outputs": [],
   "source": [
    "with open(MD_PATH, 'r', encoding='utf-8') as file:\n",
    "    md = file.read()\n",
    "    file.close()"
   ]
  },
  {
   "cell_type": "code",
   "execution_count": 7,
   "metadata": {},
   "outputs": [],
   "source": [
    "chunks = split_md_text(md, max_chars_per_chunk=5000)"
   ]
  },
  {
   "cell_type": "code",
   "execution_count": 8,
   "metadata": {},
   "outputs": [
    {
     "name": "stdout",
     "output_type": "stream",
     "text": [
      "Number of chunks need to be translated:  57\n"
     ]
    }
   ],
   "source": [
    "cnt = 0\n",
    "\n",
    "for i in range(len(chunks)):\n",
    "    chunk = chunks[i]\n",
    "    if chunk.startswith('$$'):\n",
    "        continue\n",
    "    if chunk.startswith('|'):\n",
    "        continue\n",
    "    cnt += 1\n",
    "\n",
    "print(\"Number of chunks need to be translated: \", cnt)"
   ]
  },
  {
   "cell_type": "code",
   "execution_count": 9,
   "metadata": {},
   "outputs": [
    {
     "name": "stdout",
     "output_type": "stream",
     "text": [
      "Processing batch 1 of 25\n",
      "Processing batch 2 of 25\n",
      "Processing batch 3 of 25\n",
      "Processing batch 4 of 25\n",
      "Processing batch 5 of 25\n",
      "Processing batch 6 of 25\n",
      "Processing batch 7 of 25\n",
      "Processing batch 8 of 25\n",
      "Processing batch 9 of 25\n",
      "Processing batch 10 of 25\n",
      "Processing batch 11 of 25\n",
      "Processing batch 12 of 25\n",
      "Processing batch 13 of 25\n",
      "Processing batch 14 of 25\n",
      "Processing batch 15 of 25\n",
      "Processing batch 16 of 25\n",
      "Processing batch 17 of 25\n",
      "Processing batch 18 of 25\n",
      "Processing batch 19 of 25\n",
      "Processing batch 20 of 25\n",
      "Processing batch 21 of 25\n",
      "Processing batch 22 of 25\n",
      "Processing batch 23 of 25\n",
      "Processing batch 24 of 25\n",
      "Processing batch 25 of 25\n"
     ]
    }
   ],
   "source": [
    "tranlated_chunks = await translate_chunks(\n",
    "    chunks, corr_list, batch_size=5, timeout=20000)"
   ]
  },
  {
   "cell_type": "code",
   "execution_count": 10,
   "metadata": {},
   "outputs": [],
   "source": [
    "with open(TRANSLATION_MD_PATH, 'w', encoding='utf-8') as file:\n",
    "    file.write('\\n\\n'.join(map(lambda chunk: str(chunk), tranlated_chunks)))\n",
    "    file.close()"
   ]
  },
  {
   "cell_type": "code",
   "execution_count": null,
   "metadata": {},
   "outputs": [],
   "source": []
  }
 ],
 "metadata": {
  "kernelspec": {
   "display_name": "Python 3",
   "language": "python",
   "name": "python3"
  },
  "language_info": {
   "codemirror_mode": {
    "name": "ipython",
    "version": 3
   },
   "file_extension": ".py",
   "mimetype": "text/x-python",
   "name": "python",
   "nbconvert_exporter": "python",
   "pygments_lexer": "ipython3",
   "version": "3.10.12"
  },
  "orig_nbformat": 4
 },
 "nbformat": 4,
 "nbformat_minor": 2
}
